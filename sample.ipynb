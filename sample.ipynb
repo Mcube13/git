{
 "cells": [
  {
   "cell_type": "code",
   "execution_count": 7,
   "metadata": {},
   "outputs": [
    {
     "name": "stdout",
     "output_type": "stream",
     "text": [
      "enter a digit:-6\n",
      "Enter number greater than 0\n"
     ]
    }
   ],
   "source": [
    "x=int(input(\"enter a digit:\"))\n",
    "if(x<0):\n",
    "    print(\"Enter number greater than 0\")\n",
    "else:\n",
    "    \n",
    "        if (x%2==0):\n",
    "            print(\"Number is even\")\n",
    "\n",
    "        else:\n",
    "            print(\"Numbre is odd\")\n",
    "    "
   ]
  }
 ],
 "metadata": {
  "kernelspec": {
   "display_name": "Python 3",
   "language": "python",
   "name": "python3"
  },
  "language_info": {
   "codemirror_mode": {
    "name": "ipython",
    "version": 3
   },
   "file_extension": ".py",
   "mimetype": "text/x-python",
   "name": "python",
   "nbconvert_exporter": "python",
   "pygments_lexer": "ipython3",
   "version": "3.7.4"
  }
 },
 "nbformat": 4,
 "nbformat_minor": 2
}
